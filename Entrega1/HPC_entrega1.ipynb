{
 "cells": [
  {
   "cell_type": "markdown",
   "metadata": {},
   "source": [
    "<h3 align=\"center\">High Performance Computing</h3>\n",
    "<h3 align=\"center\">Computación de Alto Desempeño</h3>\n",
    "<h3 align=\"center\">Entrega 1 - Conceptos de HPC y Computación Paralela</h3>\n",
    "<h3 align=\"center\">Marzo - 2025</h3>\n",
    "<h3 align=\"center\">Universidad de Medellín </h3>\n",
    "<h5 align=\"center\">Paula S. Meneses Gasca </h5>\n",
    "\n",
    "***"
   ]
  },
  {
   "cell_type": "markdown",
   "metadata": {},
   "source": [
    "# Introducción"
   ]
  },
  {
   "cell_type": "markdown",
   "metadata": {},
   "source": [
    "La computación científica ha sido reconocida como el tercer enfoque del descubrimiento científico, complementando la experimentación y la teoría. Aunque la informática ha evolucionado hacia múltiples áreas, la computación científica sigue siendo fundamental para la innovación y el desarrollo tecnológico.\n",
    "\n",
    "Uno de los avances más relevantes en este campo es la computación de alto rendimiento (HPC, por sus siglas en inglés), una tecnología que permite realizar cálculos complejos de manera más eficiente y en menos tiempo. Esto se logra mediante el uso de múltiples procesadores que trabajan en paralelo para procesar grandes volúmenes de datos, lo que es especialmente útil en el análisis de Big Data y en la resolución de problemas complejos. \n",
    "\n",
    "*<p align=\"center\"> “Los sistemas HPC suelen funcionar a velocidades más de un millón de veces más rápidas que los sistemas más rápidos de escritorio, portátiles o servidores.”\n",
    "(IBM, s.f.)<p>*\n",
    "\n",
    "Durante los últimos 20 años, el desarrollo de la computación científica ha estado impulsado por el procesamiento en paralelo, una técnica clave en la modelización y simulación computacional. La computación de alto rendimiento sigue evolucionando con la incorporación de nuevas tecnologías como las unidades de procesamiento gráfico (GPU), los circuitos FPGA y la computación cuántica, lo que plantea nuevas oportunidades y desafíos.\n",
    "\n",
    "El cómputo paralelo, base del HPC, consiste en dividir un problema en varias partes que pueden resolverse simultáneamente mediante múltiples unidades de procesamiento (PU). Es decir, un problema se descompone en N subproblemas, donde N suele ser el número de PU disponibles, y cada subproblema se ejecuta en paralelo.\n",
    "\n",
    "Para aprovechar el paralelismo de manera eficiente, es fundamental evaluar la viabilidad de la estrategia computacional antes de su implementación. Una mala distribución de las tareas o un diseño inadecuado pueden generar ineficiencias y desperdiciar recursos computacionales. Por ello, la correcta planificación y optimización de la computación paralela es un aspecto clave en el desarrollo de soluciones de alto rendimiento[3].\n",
    "\n",
    "***\n"
   ]
  },
  {
   "cell_type": "markdown",
   "metadata": {},
   "source": [
    "# Objetivos"
   ]
  },
  {
   "cell_type": "markdown",
   "metadata": {},
   "source": [
    "1.\tTener claro las definiciones, arquitecturas, tendencias, y demás conceptos básicos de la Computación de Alto Desempeño para poder establecer su impacto en la ciencia y la ingeniería. \n",
    "2.\tIdentificar los principales enfoques arquitectónicos de los sistemas de Computación de Alto Desempeño, entender sus diferencias para tener claro cual es el más eficiente, el más utilizado o entender el conexto en el que se debe tener. \n",
    "3.\tProfundizar en temas como Big data, las IAs, machine learning, para identificar el impacto que tiene la Computación de Alto Desempeño en estas áreas. \n",
    "\n",
    "***"
   ]
  },
  {
   "cell_type": "markdown",
   "metadata": {},
   "source": [
    "# Conceptos Fundamentales de HPC"
   ]
  },
  {
   "cell_type": "markdown",
   "metadata": {},
   "source": [
    "## Paralelismo"
   ]
  },
  {
   "cell_type": "markdown",
   "metadata": {},
   "source": [
    "Un algoritmo secuencial en una computadora estándar ejecuta las instrucciones de manera secuencial, es decir que cada tarea sucede después de que la computadora completa la directamente anterior, sin embargo, HPC se encarga de utilizar los procesadores disponibles para realizar varias tareas al mismo tiempo, por lo que el tiempo se reduce en grandes cantidades; sin embargo es necesario tener claro que no todos los problemas pueden ser solucionados de manera secuencial, esto depende de las tareas que se tengan que realizar, la manera en la que se tienen que recibir la información y el orden inicial de las tareas. \n",
    "\n",
    "Normalmente el HPC se realiza en supercomputadoras, computadoras de alto rendimiento que procesa datos a velocidades muy altas, sin embargo el paralelismo se puede realizar en una computadora de uso personal, haciendo uso de varios de sus núcleos o procesadores [3]. \n"
   ]
  },
  {
   "cell_type": "markdown",
   "metadata": {},
   "source": [
    "-\t**Memoria compartida:** Es una arquitectura en la cual, todos los procesadores acceden a una misma memoria común. Este tipo de arquitectura permite al programador concentrarse en la mejor forma de paralelizar, pudiéndose enfocar en la sincronización y comunicación de los procesos. \n",
    "\n",
    "    La evolución de la tecnología ha permitido que un solo dispositivo contenga varios núcleos o CPUs, por lo que se puede cumplir la memoria compartida donde varios procesadores en un mismo dispositivo, comparten memoria [4].\n",
    "\n",
    "    La memoria compartida puede presentar 2 casos, el primero es el acceso uniforme a la memoria (UAM), que se caracteriza por tener procesadores idénticos que pueden acceder de igual manera y en el mismo momento a la memoria, es decir todos los procesadores se enteran si hay alguna actualización en la memoria. Por otro lado el acceso no uniforme a la memoria (NUMA), donde No todos los procesadores poseen el mismo tiempo de acceso a las memorias.\n",
    "\n",
    "-\t**Memoria distribuida:** Es una arquitectura en la cual, cada procesador tiene su propia memoria y se comunica con otros  por medio del MPI, Message Passing Interface.\n",
    "\n",
    "    En esta los procesos que están siendo ejecutados en las computadoras, deben enviar y recibir información por medio de mensajes. MPI es un estándar que prioriza las comunicaciones punto a punto y tiene en cuenta el contexto de la comunicación [4]. \n",
    "\n",
    "    En esta, los procesadores tienen su propia memoria local que funciona de manera independiente, por lo que los cambios en esta no actualizan las demás memorias, es decir, los demás procesadores no tiene acceso a esta. La transferencia de datos e información normalmente se realiza por conexiones de “Ethernet”.\n",
    "\n",
    "-\t**Memoria hibrida (distribuida/compartida):**  es una mezcla entre la memoria distribuida y compartida. Utiliza máquinas de memoria compartida con unidades de procesamiento gráfico (GPU), sin embargo la interconexión de estas es por medio de comunicaciones de red para transferir datos de una máquina a otra. Son maquinas que solo conocen su propia memoria, no tienen acceso a la memoria de otra [5]. "
   ]
  },
  {
   "cell_type": "markdown",
   "metadata": {},
   "source": [
    "### Computadora de programa almacenado o Arquitectura de computadoras de Von Neumann"
   ]
  },
  {
   "cell_type": "markdown",
   "metadata": {},
   "source": [
    "Las  instrucciones y datos del programa se guardan en una memoria electrónica y no mediante \"cableado físico\".\n",
    "\n",
    "Estas computadoras cuentan con una estructura básica que consta de 4 componentes: \n"
   ]
  },
  {
   "cell_type": "markdown",
   "metadata": {},
   "source": [
    "1.\t**Memoria:** es el dispositivo que retiene, memoriza o almacena datos informáticos durante un periodo de tiempo.\n",
    "2.\t**Unidad de control:** circuito que controla el flujo de datos y las operaciones de un ordenador (instrucciones y datos). \n",
    "Decodifica las instrucciones y luego coordina secuencialmente las operaciones para realizar la tarea.\n",
    "3.\t**Unidad aritmética lógica:** se encarga de realizar operaciones matemáticas básicas y lógicas transmitiendo señales en 0 y 1 (binarios).\n",
    "4.\t**Entrada/Salida:** se refiere a la entrada y salida de la data, relacionada directamente con el humano. \n"
   ]
  },
  {
   "cell_type": "markdown",
   "metadata": {},
   "source": [
    "Características principales: \n",
    "-\tLa memoria de acceso almacena instrucciones y datos. \n",
    "-\tInstrucciones: datos codificados que le dicen a la computadora lo que hay que hacer. \n",
    "-\tDatos (data): información que utiliza el programa. \n"
   ]
  },
  {
   "cell_type": "markdown",
   "metadata": {},
   "source": [
    "### Taxonomía clásica de Flynn"
   ]
  },
  {
   "cell_type": "markdown",
   "metadata": {},
   "source": [
    "Clasifica las arquitecturas dependiendo del flujo de instrucciones y flujo de datos, teniendo un estado único o múltiple. \n",
    "\n",
    "La siguiente matriz muestra la clasificación según esta taxonomía. "
   ]
  },
  {
   "cell_type": "markdown",
   "metadata": {},
   "source": [
    "<table border=\"1\">\n",
    "  <tr>\n",
    "    <td> <center><b>SISD</b></center> <br>\n",
    "        Única instrucción <br>\n",
    "        Único dato\n",
    "    </td>\n",
    "    <td><center><b>SIMD</b></center><br>\n",
    "        Única  instrucción <br>\n",
    "        Múltiples datos \n",
    "    </td>\n",
    "  </tr>\n",
    "  <tr>\n",
    "    <td><center><b>MISD</b></center> <br>\n",
    "        Múltiples instrucciones  <br>\n",
    "        Único dato\n",
    "    </td>\n",
    "    <td><center><b>MIMD</b></center><br>\n",
    "        Múltiples instrucciones <br>\n",
    "        Múltiples datos\n",
    "    </td>\n",
    "  </tr>\n",
    "</table>"
   ]
  },
  {
   "cell_type": "markdown",
   "metadata": {},
   "source": [
    "**Instrucción única, datos únicos (SISD):** se da en una computadora serial, solo se utiliza un flujo de datos y solo se ejecuta una instrucción. Por ejemplo una computadora con un solo núcleo. \n",
    "\n",
    "**Instrucción única, datos múltiples (SIMD):** se da en una computadora paralela, todas las unidades ejecutan la misma instrucción, sin embargo, cada una puede tener un flujo de datos diferente. \n",
    "\n",
    "**Instrucciones múltiples, datos únicos (MISD):** se da en una computadora paralela, cada unidad tiene flujos diferentes de instrucciones pero manejan el mismo flujo de datos. \n",
    "\n",
    "**Múltiples instrucciones, múltiples datos (MIMD):** se da en una computadora paralela, cada unidad tiene flujos diferentes de instrucciones y manejan flujos de datos independientes. \n",
    "\n",
    "Este último es el utilizado por las famosas supercomputadoras utilizadas para el paralelismo [5].\n",
    "\n",
    "***"
   ]
  },
  {
   "cell_type": "markdown",
   "metadata": {},
   "source": [
    "## Definiciones básicas"
   ]
  },
  {
   "cell_type": "markdown",
   "metadata": {},
   "source": [
    "**CPU:** Las CPU modernas están compuestas por uno o más núcleos, cada uno de los cuales es una unidad de procesamiento independiente con su propio conjunto de instrucciones. Estos núcleos pueden agruparse en uno o varios sockets, cada uno con su propia memoria. En los casos en que una CPU tiene múltiples sockets, el hardware generalmente permite compartir memoria entre ellos.\n",
    "\n",
    "**Nodo:** Una maquina autónoma, que integra varias CPU, procesadores o núcleos, junto con memoria, interfaces de red y otros componentes. Los nodos se conectan para conformar las supercomputadoras.\n",
    "\n",
    "**GPU:** también conocidas como tarjetas de vídeo o tarjetas gráficas, se encarga de procesar gráficos y visualizaciones.\n",
    "\n",
    "**Procesador Simétrico Múltiple (Symmetric Multi-Processor, SMP):** arquitectura de hardware de memoria compartida en la que varios procesadores operan dentro de un mismo espacio de direcciones, teniendo acceso equitativo a todos los recursos del sistema, como memoria y almacenamiento.\n",
    "\n",
    "**Granularidad:** es una medida cualitativa de la relación entre el cálculo y la comunicación.\n",
    "-\t**Gruesa:** cantidades grandes de trabajo computacional que se ejecutan entre eventos de comunicación.\n",
    "-\t**Fina:** cantidades pequeñas de trabajo computacional se ejecutan entre eventos de comunicación.\n",
    "\n",
    "\n",
    "**Escalabilidad:** La capacidad de un sistema HPC para aumentar su rendimiento al agregar más recursos. Puede ser escalabilidad fuerte (mantiene el tamaño del problema y reduce el tiempo) o escalabilidad débil (aumenta el tamaño del problema junto con los recursos).\n",
    "\n",
    "**Eficiencia computacional:** aprovechamiento de los recursos de hardware en relación con el rendimiento teórico máximo.\n",
    "\n",
    "**Overhead:** costo adicional en relación al tiempo, memoria o recursos computacionales que se utilizan para realizar una tarea.\n",
    "\n",
    "**Masivamente Paralelo:** se refiere a la arquitectura de hardware de un sistema paralelo que contiene unaa gran cantidad de unidades de procesamiento. La escala de \"muchos\" sigue en constante crecimiento, y en la actualidad, las supercomputadoras más avanzadas cuentan con cientos de miles e incluso millones de estos elementos de procesamiento.\n",
    " \n",
    "**Paralelo Embarazosamente (Embarrassingly):** Se basa en reolver muchas tareas similares pero independientes, al mismo tiempo; con poca o ninguna necesidad de coordinación entre las tareas.\n",
    "\n",
    "**Tarea (Task):** unidad de trabajo computacional definida de manera lógica e independiente, una tarea corresponde a un programa o a un conjunto de instrucciones que un procesador ejecuta [6]. \n",
    "\n",
    "***"
   ]
  },
  {
   "cell_type": "markdown",
   "metadata": {},
   "source": [
    "# Arquitecturas Modernas en HPC"
   ]
  },
  {
   "cell_type": "markdown",
   "metadata": {},
   "source": [
    "1.\tCPU (Unidad Central de Procesamiento) en HPC\n",
    "\n",
    "-\tLa CPU sirve como chip principal en dispositivos como computadoras, teléfonos, televisores, etc. Su función principal es difundir instrucciones entre los distintos componentes integrados en la placa base.\n",
    "-\tSon los procesadores tradicionales, pero en HPC suelen ser multinúcleo y optimizados para cómputo paralelo.\n",
    "-\tSoportan SIMD (Single Instruction, Multiple Data) \n",
    "-\tLa CPU es un procesador de propósito general capaz de manejar una variedad de tareas, sin embargo, esta versatilidad tiene un costo, ya que su rendimiento puede no ser tan especializado como el de otros chips dedicados [9].\n",
    "\n",
    "2.\tGPU (Unidad de Procesamiento Gráfico)\n",
    "\n",
    "-\tLa GPU, comúnmente conocida como tarjeta gráfica, está diseñada para procesar gráficos de manera eficiente y representarlos en la pantalla. Es una herramienta altamente especializada\n",
    "-\tDiseñadas para ejecutar miles de hilos en paralelo, son fundamentales en inteligencia artificial y simulaciones [9].\n",
    "\n",
    "3.\tFPGA (Field-Programmable Gate Array / Arreglos de compuertas lógicas programables en sitio)\n",
    "\n",
    "-\tSu arquitectura se basa en una matriz de bloques lógicos configurables (CLB) conectados a través de interconexiones programables.\n",
    "-\tLos FPGA se pueden reprogramar para realizar múltiples tareas, lo que permite utilizar el mismo hardware en diferentes proyectos.\n",
    "-\tSon un medio de implementación importante para la lógica digital. \n",
    "-\tChips reconfigurables que permiten la personalización del hardware para tareas específicas de alto rendimiento. \n",
    "-\tSon eficientes en términos de consumo energético y utilizados en análisis de datos en tiempo real [8][9].\n",
    "\n",
    "4.\tASIC (Circuito integrado de aplicación especifica)\n",
    "\n",
    "-\tEl ASIC es un chip de silicio diseñado para una función lógica específica y, por lo tanto, tiene ventaja en términos de rendimiento y velocidad para esa única tarea.\n",
    "-\tLo anterior causa que no se puede adaptar fácilmente para realizar otras tareas.\n",
    "-\tSon optimizados para IA y HPC.\n",
    "-\tLa potencia informática de los ASIC consume menos energía, es más pequeña y fácil de instalar [9].\n",
    "\n",
    "5.\tComputación cuántica\n",
    "\n",
    "    La computación cuántica emplea tecnología avanzada, que incluye hardware especializado y algoritmos basados en principios de la mecánica cuántica, para abordar problemas complejos que resultan inabordables o demasiado lentos de resolver para los ordenadores clásicos y las supercomputadoras. \n",
    "    Estas máquinas son muy diferentes de los ordenadores clásicos que han existido durante más de medio siglo. [10]\n",
    "    \n",
    "\n",
    "***"
   ]
  },
  {
   "cell_type": "markdown",
   "metadata": {},
   "source": [
    "# Software y Hardware en HPC"
   ]
  },
  {
   "cell_type": "markdown",
   "metadata": {},
   "source": [
    "Primero es clave entender que es el Software y el Hardware en computación, además comprender las diferencias entre estos dos conceptos. \n",
    "\n",
    "**Hardware:** es el conjunto de las partes físicas y tangibles de la computadora, como discos, monitor, teclado y partes internas. \n",
    "\n",
    "**Software:** conjunto de programas, instrucciones y reglas informáticas, es todo lo intangible, dentro de la categoría de software el más importante es el sistema operativo que es el que administra todas las partes internas del computador. Está formado por los datos y programas que aportan funcionalidad al hardware del equipo [7].\n"
   ]
  },
  {
   "cell_type": "markdown",
   "metadata": {},
   "source": [
    "A continuación se va a completar la explicación de las arquitecturas modernas de HPC."
   ]
  },
  {
   "cell_type": "markdown",
   "metadata": {},
   "source": [
    "## Sistemas Operativos y Software Clave en HPC"
   ]
  },
  {
   "cell_type": "markdown",
   "metadata": {},
   "source": [
    "En HPC, es vital que el sistema operativo y el software optimicen el manejo de múltiples procesadores, memoria y redes de interconexión.\n",
    "\n",
    "Los sistemas operativos y el software son componentes fundamentales en la computación de alto rendimiento (HPC), ya que gestionan los recursos y optimizan el rendimiento de los sistemas. A continuación, se destacan algunos de los sistemas operativos y herramientas de software clave en el ámbito de HPC:\n"
   ]
  },
  {
   "cell_type": "markdown",
   "metadata": {},
   "source": [
    "#### Sistemas Operativos:"
   ]
  },
  {
   "cell_type": "markdown",
   "metadata": {},
   "source": [
    "**Distribuciones de Linux:** La mayoría de los clústeres de HPC operan sobre distribuciones de Linux debido a su flexibilidad, estabilidad y capacidad de personalización. Distribuciones como CentOS, Red Hat Enterprise Linux (RHEL) y SUSE Linux Enterprise Server son comúnmente utilizadas en entornos HPC. Estas plataformas proporcionan una base sólida para la implementación de herramientas y aplicaciones especializadas en HPC [23]. \n",
    "\n",
    "**Microsoft Windows HPC Server:** Aunque menos común que Linux, Microsoft ofrece soluciones para HPC, como el Windows HPC Server, que integra herramientas específicas para entornos de alto rendimiento. La integración con el sistema operativo Windows ayuda a proporcionar seguridad, almacenamiento y acceso de escritorio sin problemas a los recursos y la administración del clúster [24]. \n"
   ]
  },
  {
   "cell_type": "markdown",
   "metadata": {},
   "source": [
    "#### Software Clave:"
   ]
  },
  {
   "cell_type": "markdown",
   "metadata": {},
   "source": [
    "**OpenHPC:** Es una iniciativa colaborativa que busca desarrollar y distribuir un entorno de software fácil de instalar y utilizar para HPC. OpenHPC ofrece un conjunto de componentes esenciales de código abierto necesarios para configurar y administrar un clúster de HPC, incluyendo herramientas de gestión de recursos, bibliotecas científicas y entornos de desarrollo [25].\n",
    "\n",
    "**MPI (Message Passing Interface):** Es una biblioteca estándar que permite la comunicación eficiente entre nodos en un clúster de HPC. MPI es fundamental para la programación paralela, ya que facilita la coordinación y el intercambio de datos entre procesos que se ejecutan simultáneamente en diferentes unidades de procesamiento [26].\n",
    "\n",
    "**Gestores de Recursos y Planificadores de Tareas:** Herramientas como SLURM (Simple Linux Utility for Resource Management) son esenciales para asignar recursos y programar tareas en entornos HPC. Estos gestores permiten optimizar el uso de los recursos disponibles y garantizar que las tareas se ejecuten de manera eficiente y ordenada [27]. \n",
    "\n",
    "**Bibliotecas Científicas:** Existen numerosas bibliotecas diseñadas para mejorar el rendimiento y la eficiencia de las aplicaciones científicas en HPC. Por ejemplo, FFTW (Fastest Fourier Transform in the West) es una biblioteca utilizada para calcular transformadas rápidas de Fourier, mientras que HDF5 (Hierarchical Data Format) se emplea para gestionar y almacenar grandes volúmenes de datos numéricos [28][29]. \n",
    "\n",
    "La correcta selección y configuración de estos sistemas operativos y herramientas de software son cruciales para maximizar el rendimiento y la eficiencia de los sistemas de HPC, permitiendo abordar problemas complejos y procesar grandes volúmenes de datos de manera efectiva.\n",
    "\n",
    "\n",
    "***"
   ]
  },
  {
   "cell_type": "markdown",
   "metadata": {},
   "source": [
    "# Tendencias Actuales y Futuras en HPC"
   ]
  },
  {
   "cell_type": "markdown",
   "metadata": {},
   "source": [
    "## Impacto de la Inteligencia Artificial en HPC"
   ]
  },
  {
   "cell_type": "markdown",
   "metadata": {},
   "source": [
    "La inteligencia artificial ha trasformado e innovado en los últimos años muchos aspectos, uno de estos la computación de alto desempeño. Esta última combina hardware y software para la gestión de sistemas y de computadoras interconectadas, estas tareas son demasiado complejas para maquinas individuales, para esto la IA por medio de modelos de aprendizaje automático permite llevar a cabo problemas que cada vez son más complejos, de manera más simple. \n",
    "\n",
    "Con la IA se ha podido aumentar la eficiencia energética y acelerar simulaciones científicas, además algunas técnicas de Deep Learning, como las redes neuronales, tienen la necesidad de operarse con grandes cantidades de recursos de HPC para poder entrenar los modelos en plazos de tiempo aceptables. Además, la IA se emplea para mejorar la gestión de recursos y la detección de fallos en sistemas de Computación de alto Desempeño.\n"
   ]
  },
  {
   "cell_type": "markdown",
   "metadata": {},
   "source": [
    "### Algunas Aplicaciones reales de la inteligencia artificial en HPC"
   ]
  },
  {
   "cell_type": "markdown",
   "metadata": {},
   "source": [
    "**Big Data Analytics:** Desarrollo de sistemas y herramientas para manejar conjuntos masivos de datos.\n",
    "\n",
    "**Ciberseguridad:** Creación de tecnologías para el cifrado, la privacidad y la protección de la información, complementa la detección de amenazas internas y ciberataques. \n",
    "\n",
    "**Informática médica:** colaboración con institutos nacionales para avanzar en el análisis de la atención sanitaria. Además se han desarrollado modelados de la propagación de enfermedades y comprensión de datos clínicos.\n",
    "\n",
    "**FinTech:** Análisis de datos para las industrias de servicios financieros y seguros.\n"
   ]
  },
  {
   "cell_type": "markdown",
   "metadata": {},
   "source": [
    "Uno de los principales desafíos en el campo de la IA y la computación de alto rendimiento es cerrar la brecha entre la investigación y la implementación práctica. Muchas veces, la investigación busca centrarse en avances simplemente teóricos, mientras que las aplicaciones prácticas requieren soluciones sólidas y escalables. La colaboración con la industria garantiza que los resultados de la investigación se traduzcan en tecnologías utilizables [11]."
   ]
  },
  {
   "cell_type": "markdown",
   "metadata": {},
   "source": [
    "## Computación Cuántica y su Potencial"
   ]
  },
  {
   "cell_type": "markdown",
   "metadata": {},
   "source": [
    "La computación cuántica es una tecnología que ha alcanzado altos niveles de popularidad,  esta utiliza los principios de la mecánica cuántica para procesar información de manera diferente a la computación clásica. A diferencia de los computadores tradicionales, que usan bits (0 o 1), los computadores cuánticos utilizan los bits cuánticos que son conocidos como qubits, son la unidad básica de información en la computación cuántica, estos pueden existir en múltiples estados simultáneamente gracias al fenómeno de la superposición cuántica. Esto permite realizar cálculos complejos a velocidades exponencialmente mayores [13].\n",
    "\n",
    "Además, los qubits pueden estar entrelazados, lo que significa que el estado de uno afecta directamente al estado de otro, independientemente de la distancia. Esto abre la puerta a la resolución de problemas que actualmente son inalcanzables para los computadores clásicos, como la optimización de sistemas complejos, la simulación de moléculas para descubrimientos médicos, y la mejora de la ciberseguridad mediante criptografía cuántica.\n",
    "\n",
    "Aunque actualmente las computadoras cuánticas están en sus primeras etapas de desarrollo, se espera que en el futuro complementen los sistemas HPC tradicionales, especialmente en áreas como la criptografía, la simulación de materiales y la optimización de problemas del ata complejidad.\n",
    "\n",
    "En sí, la computación cuántica es solo otro acelerador en la nueva ola de transformación tecnológica.\n",
    "\n",
    "Los proveedores de hardware cuántico y de sistemas clásicos han trabajado en conjunto para desarrollar sistemas informáticos de inspiración cuántica dedicados a resolver problemas de High Performance Computing (HPC). Por ejemplo, Dell ha construido un sistema cuántico clásico híbrido que permite a los clientes experimentar con la computación cuántica clásica desde la simulación hasta la computación híbrida real.\n",
    "\n",
    "Este sistema cuántico permitió que la QPU de IonQ resolviera problemas más complejos, con una mayor corrección de errores y en menor tiempo, las cargas de trabajo se pueden ejecutar en las instalaciones propias. Es importante tener claro que la computación cuántica no reemplazará a la computación clásica, simplemente aumentará sus capacidades en nuevos casos de uso [12]. \n",
    "\n",
    "La computación cuántica no busca reemplaza a la Computación tradicional, sino que será un complemento en problemas específicos. La integración de algoritmos cuánticos en HPC podría proporcionar avances significativos en áreas como la simulación de procesos físicos y la optimización de grandes sistemas. Sin embargo, existen desafíos técnicos, como la corrección de errores cuánticos y la escalabilidad de los sistemas cuánticos, que deben resolverse antes de una adopción masiva [13]. \n",
    "\n"
   ]
  },
  {
   "cell_type": "markdown",
   "metadata": {},
   "source": [
    "## Avances en Redes de Interconexión y Almacenamiento para HPC"
   ]
  },
  {
   "cell_type": "markdown",
   "metadata": {},
   "source": [
    "Las redes de interconexión y el almacenamiento son elementos clave para la eficiencia de los sistemas de HPC. Hay tecnologías que han mejorado la velocidad de transferencia de datos, reduciendo la latencia y aumentando el ancho de banda. Además, el uso de almacenamiento en caché que se basa en memoria continua y arquitecturas distribuidas permite manejar grandes volúmenes de datos de manera más eficiente [5]."
   ]
  },
  {
   "cell_type": "markdown",
   "metadata": {},
   "source": [
    "## ¿Cómo Está Evolucionando la Supercomputación en la Actualidad?"
   ]
  },
  {
   "cell_type": "markdown",
   "metadata": {},
   "source": [
    "NVIDIA es una multinacional líder mundial de computació, especializada en el desarrollo de unidades de procesamiento gráfico (GPU) y tecnologías relacionadas. Esta es conocida principalmente por sus tarjetas gráficas, que son ampliamente utilizadas en aplicaciones de gaming, diseño gráfico, renderización 3D y computación de alto rendimiento. Además de las GPU, NVIDIA también desarrolla tecnologías como plataformas de computación paralela, IAs, automóviles autónomos, entre otros. \n",
    "\n",
    "En este apartado se tomará información que NVIDIA ha brindado sobre algunas arquitecturas heterogéneas con procesadores especializados en IA y aprendizaje automático, además también apoyan la eficiencia energética con el desarrollo de centros de datos sostenibles y el uso de energías renovables para reducir la huella de carbono.\n",
    "\n",
    "La supercomputación está evolucionando hacia arquitecturas híbridas que combinan CPUs, GPUs y aceleradores específicos como las TPUs, mejorando la eficiencia energética y el rendimiento.\n",
    "\n",
    "“Incluso si las predicciones de que los centros de datos pronto representarán el 4% del consumo energético mundial se hacen realidad, la IA está teniendo un impacto importante en la reducción del 96% restante del consumo energético”, afirma un informe de Lisbon Council Research, una organización sin fines de lucro formada en 2003 que estudia cuestiones económicas y sociales.\n",
    "\n",
    "Como se ha mencionado en varias oportunidades, una de las características de la computación que utiliza el procesamiento paralelo, es que se realiza más trabajo en menos tiempo. Como resultado, consume menos energía que los servidores de uso general que emplean CPU diseñadas para manejar una tarea a la vez.\n",
    "\n",
    "Al pasar de operaciones solo con CPU a sistemas acelerados por GPU, las cargas de trabajo de HPC e IA pueden ahorrar más de 40 teravatios-hora de energía al año, lo que equivale a las necesidades de electricidad de casi 5 millones de hogares en EE. UU.\n",
    "\n",
    "La huella de carbono se reducido de una manera abrumadora, estas son más que otras ventajas y consecuencias positivas del uso del HPC y de la creación de IAs que además cada vez favorecen a más empresas y a la polacion mundial. \n",
    "\n"
   ]
  },
  {
   "cell_type": "markdown",
   "metadata": {},
   "source": [
    "## Rol de la Inteligencia Artificial en la Optimización de Sistemas HPC"
   ]
  },
  {
   "cell_type": "markdown",
   "metadata": {},
   "source": [
    "La IA juega un papel de gran importancia en la optimización de HPC al mejorar la gestión de cargas de trabajo y la predicción de fallos. Mediante algoritmos de aprendizaje automático, se pueden detectar cuellos de botella y ajustar dinámicamente los recursos para maximizar la eficiencia. Además, la IA ayuda en la optimización de software y en la automatización de tareas de mantenimiento, reduciendo el tiempo de inactividad y mejorando la productividad de los centros de supercomputación.\n",
    "\n",
    "En conclusión, la supercomputación está avanzando hacia una mayor integración con la IA y la computación cuántica, mejorando el rendimiento y abriendo nuevas posibilidades en diversas áreas científicas e industriales [15].\n"
   ]
  },
  {
   "cell_type": "markdown",
   "metadata": {},
   "source": [
    "# Ejemplo de HPC en la nube "
   ]
  },
  {
   "cell_type": "markdown",
   "metadata": {},
   "source": [
    "<h3>Sabalcore</h3>\n",
    "\n",
    "Sabalcore es una empresa que ofrece servicios de computación de alto desempeño (HPC) en la nube, diseñados para ingenieros, científicos e investigadores. Sus soluciones permiten ejecutar simulaciones y cargas de trabajo complejas de manera eficiente, integrándose sin problemas en flujos de trabajo de ingeniería o científicos.\n",
    "\n",
    "**Infraestructura dedicada:** Utilizan hardware dedicado y tecnologías avanzadas, como NVIDIA Quantum InfiniBand y CPUs de Intel, para ofrecer una experiencia de supercomputación adaptada a las necesidades de la comunidad científica y de investigación. \n",
    "**Interfaz eficiente:** Ofrecen un cliente que no requiere navegador, proporcionando una experiencia de usuario más eficiente y optimizando los flujos de trabajo. \n",
    "\n",
    "Modelo de pago por uso: Los usuarios pagan solo por los recursos que utilizan, con tarifas basadas en el tiempo de uso de los núcleos de CPU [17].\n"
   ]
  },
  {
   "cell_type": "markdown",
   "metadata": {},
   "source": [
    "<h3>AWS</h3>\n",
    "Amazon Web Services (AWS) es la nube más adoptada y completa en el mundo, que ofrece más de 200 servicios integrales de centros de datos a nivel global. Millones de clientes, incluso las empresas emergentes que crecen más rápido, las compañías más grandes y los organismos gubernamentales líderes, están usando AWS para reducir los costos, aumentar su agilidad e innovar de forma más rápida [18].\n",
    "\n",
    "Esta nube ofrece tecnologías de infraestructura como cómputo, almacenamiento y bases de datos, además cuenta con tecnologías emergentes como aprendizaje automático e inteligencia artificial, lagos de datos y análisis e internet de las cosas.\n",
    "\n",
    "Capella Space en AWS: Capella Space utiliza radar de apertura sintética (SAR) y una constelación de satélites pequeños para ofrecer imágenes de la Tierra en alta resolución bajo demanda. Desde 2020, emplea **AWS** para automatizar operaciones, garantizar entrega confiable de datos y ayudar a los clientes a analizarlos rápidamente [18]. \n"
   ]
  },
  {
   "cell_type": "markdown",
   "metadata": {},
   "source": [
    "# Casos de uso en la industria, ciencia e ingeniería"
   ]
  },
  {
   "cell_type": "markdown",
   "metadata": {},
   "source": [
    "**Laboratorios:** para el descubrimiento de fármacos nuevos es necesario efectuar un  proceso complejo que implica la simulación de millones de compuestos químicos para identificar los que tienen potencial para tratar enfermedades. \n",
    "Los métodos tradicionales de descubrimiento de fármacos tienen una limitación por una potencia de cálculo insuficiente, sin embargo, HPC permite a los científicos ejecutar simulaciones más detalladas y desplegar algoritmos de IA más eficaces, lo que se traduce en el descubrimiento de nuevos medicamentos a un ritmo más rápido.\n",
    "\n",
    "**Industria Petrolera y de Gas:** El petróleo y el gas son una industria masiva y multimillonaria que abarca gasolineras, pozos petrolíferos, plataformas de aguas profundas y miles de kilómetros de oleoductos e instalaciones de almacenamiento. HPC ha cambiado la forma en la que este sector manejan su cadena de suministro. Por medio de la IA y análisis basados en HPC para reducir los residuos, pueden llegar a optimizar los diseños de los oleoductos, la logística de los camiones y minimizar el impacto medioambiental.\n",
    "\n",
    "**Industria financiera:** Cuando se trata de grandes empresas financieras, HPC puede alimentar modelos predictivos que informan la toma de decisiones en torno a la mitigación de riesgos, la inversión y el análisis en tiempo real.\n",
    "\n",
    "**Sector Sanitario:** HPC puede ser útil para las instituciones sanitarias y los centros de investigación, cuando se trata de almacenar información confidencial de los pacientes, controlar las constantes vitales y revisar la eficacia de los medicamentos. Los avances en HPC han logrado digitalizar procesos complejos que en el área sanitaria puede ser de gran ayuda para un sistema más eficiente donde los empleados de esta área pueden recurrir a la tecnología para procesos complejos.\n",
    "Por ejemplo, los bioinformáticos utilizan entornos HPC para secuenciar el ADN, el genoma y probar fármacos. \n",
    "\n",
    "**Modelos climatológicos:** Son utilizados para simular el comportamiento del clima de la Tierra, incluyendo la atmósfera, los océanos y las superficies terrestres. Desde el punto de vista computacional se pueden generar simulaciones que requieren grandes cantidades de datos y cálculo paralelo.\n",
    "\n",
    "El uso del paralelismo puede ayudar a los climatólogos a ejecutar simulaciones más detalladas y precisas que, a su vez, conducen a una mejor comprensión del clima de la Tierra y del impacto de las actividades humanas [16].\n"
   ]
  },
  {
   "cell_type": "markdown",
   "metadata": {},
   "source": [
    "### Proyecto de Capacidad de Computación de Alta Gama – NASA"
   ]
  },
  {
   "cell_type": "markdown",
   "metadata": {},
   "source": [
    "El Proyecto de Capacidad de Computación de Alta Gama (HECC) proporciona computación, almacenamiento y servicios asociados de primera clase para permitir que los científicos e ingenieros que apoyan las misiones de la NASA empleen de manera amplia y productiva el modelado, la simulación y el análisis a gran escala para lograr resultados de misión exitosos.\n",
    "\n",
    "•\t**Sistemas de supercomputación:** proporciona potencia computacional, almacenamiento masivo y un entorno de ejecución fácil de usar a través del desarrollo y la implementación continuos de herramientas de gestión, seguridad de TI e ingeniería de sistemas.\n",
    "\n",
    "•\t**Rendimiento de las aplicaciones y productividad del usuario:** facilita los avances en ciencia e ingeniería para los programas de la NASA al mejorar la productividad del usuario y el rendimiento del código en aplicaciones informáticas de alto nivel de interés.\n",
    "\n",
    "•\t**Análisis y visualización de datos:** crea software de análisis y visualización de datos funcionales para mejorar el apoyo a la toma de decisiones de ingeniería y el descubrimiento científico mediante la incorporación de tecnologías de visualización y pantallas avanzadas.\n",
    "\n",
    "•\t**Redes:** proporciona redes de alto rendimiento de extremo a extremo para satisfacer los requisitos de distribución y acceso a datos de modelado y simulación masivos de usuarios dispersos geográficamente [19].\n"
   ]
  },
  {
   "cell_type": "markdown",
   "metadata": {},
   "source": [
    "### Carros rediseñados de la F1 – AWS"
   ]
  },
  {
   "cell_type": "markdown",
   "metadata": {},
   "source": [
    "La F1 ha tenido que rediseñar sus monoplazas para reducir el impacto de la estela turbulenta que limita la velocidad y la aceleración de los coches que les siguen.\n",
    "\n",
    "Para rediseñar los coches, la F1 necesitaba abandonar su entorno tecnológico local de dinámica de fluidos computacional (CFD), que utilizaba junto con las pruebas en túnel de viento para diseñar y comprobar las propiedades aerodinámicas de los coches.\n",
    "\n",
    "La F1 trasladó su entorno de simulación de CFD a una plataforma de computación de alto rendimiento (HPC) en Amazon Web Services (AWS) para afrontar sus retos. La empresa utiliza instancias de Amazon Elastic Compute Cloud (Amazon EC2) para ejecutar simulaciones eficientes y complejas que muestran la turbulencia de la estela de los coches y el impacto en los coches que les siguen. \n",
    "\n",
    "Gracias a AWS, la F1 ha reducido el tiempo de simulación de CFD en un 80 %, de 60 a 12 horas. «Ahora podemos programar una simulación para que se ejecute por la noche y tener los resultados a la mañana siguiente», afirma Symonds. «Con resultados más rápidos, podemos realizar más simulaciones en general y llegar más rápidamente al diseño final del coche» [20].\n",
    "\n",
    "Beneficios de AWS\n",
    "-\tReducción del coste de las simulaciones de CFD en un 30 %.\n",
    "-\tReducción del tiempo de simulación de CFD en un 80 %.\n",
    "-\tReducción de la pérdida de carga aerodinámica entre coches del 50 % al 15 %. \n"
   ]
  },
  {
   "cell_type": "markdown",
   "metadata": {},
   "source": [
    "### National Institutes of Health y HPC "
   ]
  },
  {
   "cell_type": "markdown",
   "metadata": {},
   "source": [
    "El grupo de HPC del NIH planifica, gestiona y respalda sistemas informáticos de alto rendimiento específicamente para su uso por parte de la comunidad intramuros del NIH. Estos sistemas incluyen Biowulf , un clúster Linux con más de 105 000 procesadores; Helix , un sistema interactivo para la transferencia y gestión de archivos, y Helixweb , que proporciona una serie de herramientas científicas basadas en la web. \n",
    "\n",
    "Los sistemas que se tienen en NIH, son de vital importancia para diferentes procesos que realiza esta organización, entre estos: \n",
    "\n",
    "**Química cuántica:** utiliza, Q-Chem, este es un paquete integral de química cuántica initio para predicciones precisas de estructuras moleculares, reactividades y espectros vibracionales y electrónicos.\n",
    "\n",
    "**Modelado molecular:** VMD es un programa de visualización molecular para mostrar, animar y analizar sistemas biomoleculares de gran tamaño mediante gráficos en 3D y secuencias de comandos integradas. \n",
    "\n",
    "**Movimineto de Newton:** Gromacs es un paquete versátil para realizar dinámicas moleculares, simular las ecuaciones de movimiento de Newton para sistemas con cientos o millones de partículas. Está diseñado principalmente para moléculas bioquímicas como proteínas y lípidos que tienen muchas interacciones enlazadas complejas.\n",
    "\n",
    "**Análisis 3D:** Una plataforma de software para el análisis y la visualización de imágenes médicas y para la investigación en terapia guiada por imágenes.\n",
    "\n",
    "Anotación rápida y estandarizada de genomas bacterianos, MAG y plásmidos por medio del paquete Bakta. \n",
    "\n",
    "Ofrecen acceso a aplicaciones informáticas para genómica, biología molecular y estructural, análisis matemático y gráfico, análisis de imágenes y otros campos científicos [21].\n"
   ]
  },
  {
   "cell_type": "markdown",
   "metadata": {},
   "source": [
    "### The European Space Agency (ESA)"
   ]
  },
  {
   "cell_type": "markdown",
   "metadata": {},
   "source": [
    "Las interfaces de comando de pulso de alta potencia (HPC) se utilizan principalmente para gestionar cargas, como la activación de relés, y cuentan con protección integrada contra cortocircuitos y fallas en situaciones de alta corriente. La señal HPC_OUT(H), generada por un componente central, se transmite a través de un circuito de un solo extremo hacia un dispositivo periférico, permitiendo un control centralizado. Estas interfaces se clasifican en tres tipos: LV-HPC (para bajos voltajes), HV-HPC (para altos voltajes) y HC-HPC (para corrientes elevadas).\n",
    "\n",
    "**Interfaces de señales analógicas:** Las interfaces de señal analógica están diseñadas para conectarse directamente a dispositivos que producen una tensión analógica variable y continua, la cual refleja el valor de un parámetro específico que se está midiendo. La señal analógica, generada por un sensor o un componente periférico, se transforma en un valor digital dentro del elemento central. La norma establece las propiedades eléctricas de estas interfaces y distingue dos tipos de interfaces analógicas [22].\n",
    "\n",
    "***"
   ]
  },
  {
   "cell_type": "markdown",
   "metadata": {},
   "source": [
    "# Conclusiones "
   ]
  },
  {
   "cell_type": "markdown",
   "metadata": {},
   "source": [
    "1.\tCon el trabajo se demostró que la computación de alto desempeño es una herramienta esencial en múltiples áreas, desde el área científica hasta la industria y la ingeniería. La capacidad que tiene para procesar grandes cantidades de datos y realizar grandes cálculos complejos en poquito tiempos ha permitido avances significativos en campos como la inteligencia artificial, la bioinformática y la simulación de modelos físicos. Además es un apoyo para factores físicos, químicos, estadísticos, entre otras áreas que han mejorado con la implementación del paralelismo y el HPC.\n",
    "\n",
    "2.\tDe la investigación se puede concluir como la computación cuántica puede ofrecer soluciones a algunas de las limitaciones del HPC, como el consumo energético que genera, la complejidad en el paralelismo y la necesidad de tener nuevos algoritmos que ayuden a la optimización del problema. \n",
    "\n",
    "3.\tEl HPC ha permitido que se den avances en temas meteorológicos, el diseño de nuevos materiales, el desarrollo en ámbitos de salud, lo que a largo plazo puede mejorar la calidad de vida y la del descubrimiento científico.\n",
    "\n",
    "    HPC es de gran importancia en la solución de problemas globales. La combinación con inteligencia artificial y computación cuántica abrirá nuevas oportunidades, pero también requerirá que las futuras generaciones de ingenieros y científicos se especialicen en estas tecnologías.\n",
    "\n",
    "4.\tEl análisis que se hizo sobre las plataformas que permite del desarrollo de HPC en la nube, demuestra que esto permitie que más investigadores y empresas puedan aprovechar su potencial sin necesidad de invertir en infraestructuras  muy costosas.\n"
   ]
  },
  {
   "cell_type": "markdown",
   "metadata": {},
   "source": [
    "***"
   ]
  },
  {
   "cell_type": "markdown",
   "metadata": {},
   "source": [
    "# Bibliografía"
   ]
  },
  {
   "cell_type": "markdown",
   "metadata": {},
   "source": [
    "[1] Front Matter. (2006). Parallel Processing For Scientific Computing, i-xxiv. https://doi.org/10.1137/1.9780898718133.fm\n",
    "\n",
    "[2] Ibm. (2024, 10 junio). HPC. IBM - ¿Qué es HPC (computación de alto rendimiento)? https://www.ibm.com/mx-es/topics/hpc\n",
    "\n",
    "[3] Gourdain, N., Gicquel, L., Montagnac, M., Vermorel, O., Gazaix, M., Staffelbach, G., Garcia, M., Boussuge, J., & Poinsot, T. (2009). High performance parallel computing of flows in complex geometries: I. Methods. Computational Science & Discovery, 2(1), 015003. https://doi.org/10.1088/1749-4699/2/1/015003 \n",
    "\n",
    "[4] Gourdain, N., Gicquel, L., Montagnac, M., Vermorel, O., Gazaix, M., Staffelbach, G., Garcia, M., Boussuge, J., & Poinsot, T. (2009b). High performance parallel computing of flows in complex geometries: I. Methods. Computational Science & Discovery, 2(1), 015003. https://doi.org/10.1088/1749-4699/2/1/015003\n",
    "\n",
    "[5] Fernando, & Wolfmann, G. (s. f.). Análisis de paralelización con memoria compartida y memoria distribuida en clusters de nodos con múltiples núcleos. Universidad Nacional de Córdoba. https://sedici.unlp.edu.ar/bitstream/handle/10915/21975/Documento_completo.pdf?sequence=1&isAllowed=y \n",
    "\n",
    "[6] Introduction to Parallel Computing Tutorial | HPC @ LLNL. (s. f.). https://hpc.llnl.gov/documentation/tutorials/introduction-parallel-computing-tutorial##Abstract\n",
    "\n",
    "[7] Carlosalvarezh. (s. f.). HPC/HPC01_ConceptosAlgoritmosParalelos.ipynb at main · carlosalvarezh/HPC. GitHub. https://github.com/carlosalvarezh/HPC/blob/main/HPC01_ConceptosAlgoritmosParalelos.ipynb\n",
    "\n",
    "[8] CONCEPTOS COMPUTACIONALES. (s. f.). U San Marcos. https://repositorio.usam.ac.cr/xmlui/bitstream/handle/11506/956/LEC%20TEC%200001%202019.pdf?sequence=1&isAllowed=y\n",
    "\n",
    "[9] The Triptych FPGA architecture. (1995, 1 diciembre). IEEE Journals & Magazine | IEEE Xplore. https://ieeexplore.ieee.org/abstract/document/475968\n",
    "\n",
    "[10] Sheldon. (s. f.). Una breve introducción a CPU, GPU, ASIC y FPGA | Comunidad FS. Knowledge. https://community.fs.com/es/article/a-brief-introduction-to-cpu-gpu-asic-and-fpga.html\n",
    "\n",
    "[11] Bhowmick, K. (2024, 22 julio). Artificial Intelligence in High-Performance Computing. ZINFI Technologies, Inc. https://www.zinfi.com/blog/artificial-intelligence-in-high-performance-computing/\n",
    "\n",
    "[12] Now, R. I. (2023b, febrero 3). Computación cuántica y clásica: un entorno híbrido que superará la ciencia ficción. IT NOW. https://www.itnow.connectab2b.com/post/computaci%C3%B3n-cu%C3%A1ntica-y-cl%C3%A1sica-un-entorno-h%C3%ADbrido-que-superar%C3%A1-la-ciencia-ficci%C3%B3n\n",
    "\n",
    "[13] ¿Qué es la computación cuántica? | Glosario. (s. f.). HPE LAMERICA. https://www.hpe.com/lamerica/es/what-is/quantum-computing.html#:~:text=La%20computaci%C3%B3n%20cu%C3%A1ntica%20es%20una,datos%20utilizando%20espacios%20computacionales%20multidimensionales.\n",
    "\n",
    "[14] Líder Mundial en Computación de Inteligencia Artificial. (s. f.). NVIDIA. https://www.nvidia.com/es-la/\n",
    "\n",
    "[15] YasminaCodes. (2025, 8 marzo). Estado actual de la computación cuántica y comparación con HPC [Vídeo]. YouTube. https://www.youtube.com/watch?v=skvxSJEmCyg\n",
    "\n",
    "[16] Bonilla, L. (2024, 4 junio). Qué es la Computación de Alto Rendimiento (HPC) y por qué es el futuro. Data Center Market. https://www.datacentermarket.es/dcm-xl/que-es-la-computacion-de-alto-rendimiento-hpc-y-por-que-es-el-futuro/\n",
    "\n",
    "[17] Sabalcore Computing Inc. (2024, 6 noviembre). High Performance Computing HPC in the Cloud - 1000 Free Hours. Sabalcore HPC Cloud. https://www.sabalcore.com/\n",
    "\n",
    "[18] what-is-aws. (s. f.). Computación en la nube con AWS. Amazon Web Services, Inc. https://aws.amazon.com/es/what-is-aws/\n",
    "\n",
    "[19] High-End Computing Capability Project. (s. f.). https://www.nas.nasa.gov/hecc/about/hecc_project.html\n",
    "\n",
    "[20] La Fórmula 1 rediseña los coches para que las carreras sean más competitivas con las soluciones de HPC de AWS. (s. f.). Amazon Web Services, Inc. https://aws.amazon.com/es/solutions/case-studies/formula-1-graviton2/\n",
    "\n",
    "[21] National Institutes of Health. (s.f.). Scientific applications on NIH HPC systems. https://hpc.nih.gov/apps/\n",
    "\n",
    "[22] European Space Agency. (s.f.). Pulsed command interfaces and high power command (HPC) interface. Recuperado de https://www.esa.int/Enabling_Support/Space_Engineering_Technology/Onboard_Computers_and_Data_Handling/Pulsed_Command_Interfaces_and_High_Power_Command_HPC_interface\n",
    "\n",
    "[23] Guillén, L. (2018). Implementación de un clúster HPC en Ubuntu. Recuperado de https://www.luisguillen.com/posts/2018/11/implementacion-cluster-hpc-ubuntu/resources/tfc-luisguillenc.pdf\n",
    "\n",
    "[24] Hale, J. S., Li, L., Richardson, C. N., & Wells, G. N. (2017). Containers for Portable, Productive, and Performant Scientific Computing. Computing In Science & Engineering, 19(6), 40-50. https://doi.org/10.1109/mcse.2017.2421459\n",
    "\n",
    "[25] Openhpc. (s. f.). Governance Overview. GitHub. https://github.com/openhpc/ohpc/wiki/Governance-Overview\n",
    "\n",
    "[26] MPI (Message Passing Interface) & OpenMPI – FASRC DOCS. (2025, 27 febrero). https://docs.rc.fas.harvard.edu/kb/mpi-message-passing-interface/\n",
    "\n",
    "[27] Jette, Morris A.; Yoo, Andy B. & Grondona, Mark. SLURM: Simple Linux Utility for Resource Management, article, April 3, 2003; California. (https://digital.library.unt.edu/ark:/67531/metadc1400392/m1/1/: accessed March 10, 2025), University of North Texas Libraries, UNT Digital Library, https://digital.library.unt.edu; crediting UNT Libraries Government Documents Department.\n",
    "\n",
    "[28] FFTW - Fastest Fourier Transform in the West | MIT Technology Licensing Office. (s. f.). https://tlo.mit.edu/industry-entrepreneurs/available-technologies/fftw-fastest-fourier-transform-west\n",
    "\n",
    "[29] FFTW home page. (s. f.). https://www.fftw.org/"
   ]
  }
 ],
 "metadata": {
  "kernelspec": {
   "display_name": "Python 3",
   "language": "python",
   "name": "python3"
  },
  "language_info": {
   "codemirror_mode": {
    "name": "ipython",
    "version": 3
   },
   "file_extension": ".py",
   "mimetype": "text/x-python",
   "name": "python",
   "nbconvert_exporter": "python",
   "pygments_lexer": "ipython3",
   "version": "3.12.0"
  }
 },
 "nbformat": 4,
 "nbformat_minor": 2
}
