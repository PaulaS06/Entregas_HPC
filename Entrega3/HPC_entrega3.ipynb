{
 "cells": [
  {
   "cell_type": "markdown",
   "id": "3bfa86a8",
   "metadata": {},
   "source": [
    "<h3 align=\"center\">High Performance Computing</h3>\n",
    "<h3 align=\"center\">Computación de Alto Desempeño</h3>\n",
    "<h3 align=\"center\">Entrega 3 - Ejercicios usando OMP</h3>\n",
    "<h3 align=\"center\">Abril - 2025</h3>\n",
    "<h3 align=\"center\">Universidad de Medellín </h3>\n",
    "<h5 align=\"center\">Paula S. Meneses Gasca </h5>\n",
    "\n",
    "***"
   ]
  },
  {
   "cell_type": "markdown",
   "id": "e12ffb79",
   "metadata": {},
   "source": [
    "# Ejercicio 1\n",
    "\n",
    "## Producto escalar de 2 vectores "
   ]
  },
  {
   "cell_type": "markdown",
   "id": "5b0bb78c",
   "metadata": {},
   "source": [
    "*** \n",
    "# Ejercicio 2\n",
    "## Suma de dos Matrices"
   ]
  },
  {
   "cell_type": "markdown",
   "id": "9991b7b1",
   "metadata": {},
   "source": [
    "*** \n",
    "# Ejercicio 3\n",
    "## Multiplicación de dos Matrices"
   ]
  }
 ],
 "metadata": {
  "language_info": {
   "name": "python"
  }
 },
 "nbformat": 4,
 "nbformat_minor": 5
}
